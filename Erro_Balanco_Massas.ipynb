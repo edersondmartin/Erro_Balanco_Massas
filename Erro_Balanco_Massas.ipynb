{
 "cells": [
  {
   "cell_type": "markdown",
   "metadata": {},
   "source": [
    "<a target=\"_blank\" href=\"https://colab.research.google.com/github/edersondmartin/Erro_Balanco_Massas/blob/main/Erro_Balanco_Massas.ipynb\">\n",
    "  <img src=\"https://colab.research.google.com/assets/colab-badge.svg\" alt=\"Open In Colab\"/>\n",
    "</a>"
   ]
  },
  {
   "cell_type": "code",
   "execution_count": 32,
   "metadata": {},
   "outputs": [],
   "source": [
    "# Éderson D'Martin Costa, 29/01/2024"
   ]
  },
  {
   "cell_type": "markdown",
   "metadata": {
    "id": "UrMBmSEZo4PD"
   },
   "source": [
    "### Instalando o pacote error_propagation"
   ]
  },
  {
   "cell_type": "code",
   "execution_count": 33,
   "metadata": {
    "colab": {
     "base_uri": "https://localhost:8080/"
    },
    "id": "Q25CkjSPeWm3",
    "outputId": "8a7d342c-6366-438c-c61f-00acbe3a366a"
   },
   "outputs": [
    {
     "name": "stdout",
     "output_type": "stream",
     "text": [
      "Requirement already satisfied: error_propagation in /home/ederson/anaconda3/lib/python3.10/site-packages (0.0.4)\r\n"
     ]
    }
   ],
   "source": [
    "!pip install error_propagation"
   ]
  },
  {
   "cell_type": "markdown",
   "metadata": {
    "id": "HCNPLbZXpF4y"
   },
   "source": [
    "### Importando"
   ]
  },
  {
   "cell_type": "code",
   "execution_count": 34,
   "metadata": {
    "id": "VBRYz8V4en3d"
   },
   "outputs": [],
   "source": [
    "from error_propagation import Complex"
   ]
  },
  {
   "cell_type": "markdown",
   "metadata": {
    "id": "obLTkZ2tqr9n"
   },
   "source": [
    "### Entradas"
   ]
  },
  {
   "cell_type": "code",
   "execution_count": 35,
   "metadata": {
    "id": "9x-42DC-evGx"
   },
   "outputs": [],
   "source": [
    "# CONDIÇÕES INICIAIS\n",
    "Ti = 97.2    # Teor do IFA na amostra não degradada\n",
    "PDi = 0.3    # Somatório de produtos de degradação na amostra não degradada\n",
    "\n",
    "# CONDIÇÕES FINAIS\n",
    "Td = 80.6    # Teor do IFA na amostra após a degradação\n",
    "PDd = 5.7    # Somatório de produtos de degradação na amostra após a degradação\n",
    "\n",
    "# Desvio Padrao Relativo para T e PD, %\n",
    "DPR_T = 2\n",
    "DPR_PD = 10"
   ]
  },
  {
   "cell_type": "markdown",
   "metadata": {
    "id": "npjsNeYLt1Tq"
   },
   "source": [
    "### Cálculos"
   ]
  },
  {
   "cell_type": "code",
   "execution_count": 36,
   "metadata": {
    "id": "K9MAgzajrDKG"
   },
   "outputs": [],
   "source": [
    "# Desvio padrão\n",
    "\n",
    "s_Ti = Ti*DPR_T/100\n",
    "s_Td = Td*DPR_T/100\n",
    "\n",
    "s_PDi = PDi*DPR_PD/100\n",
    "s_PDd = PDd*DPR_PD/100"
   ]
  },
  {
   "cell_type": "code",
   "execution_count": 37,
   "metadata": {
    "id": "gw1YLmc0fsn1"
   },
   "outputs": [],
   "source": [
    "# Quandidades mais incerteza\n",
    "\n",
    "T_i = Complex(Ti, s_Ti)\n",
    "T_d = Complex(Td, s_Td)\n",
    "PD_i = Complex(PDi, s_PDi)\n",
    "PD_d = Complex(PDd, s_PDd)"
   ]
  },
  {
   "cell_type": "code",
   "execution_count": 38,
   "metadata": {
    "id": "Y5gIu8HygJdc"
   },
   "outputs": [],
   "source": [
    "# Fórmulas para balanço de masssas\n",
    "\n",
    "BM = 100*(T_d+PD_d)/(T_i+PD_i)\n",
    "#BM = 100*(PD_d-PD_i)/(T_i-T_d)\n",
    "#BM = 100*(T_d+(PD_d-PD_i))/T_i"
   ]
  },
  {
   "cell_type": "markdown",
   "metadata": {
    "id": "FCcAqp0Nt0Qw"
   },
   "source": [
    "### Resultados"
   ]
  },
  {
   "cell_type": "code",
   "execution_count": 39,
   "metadata": {
    "colab": {
     "base_uri": "https://localhost:8080/"
    },
    "id": "9dZ5Q_Lshook",
    "outputId": "b27685da-2e8f-40a4-d966-df441f9c2e50"
   },
   "outputs": [
    {
     "name": "stdout",
     "output_type": "stream",
     "text": [
      "BM ± s: 88.51 ± 2.49\n",
      "BM ± 2s: 88.51 ± 4.98\n",
      "[LI, LS]: [83.54, 93.49]\n"
     ]
    }
   ],
   "source": [
    "txt = str(BM)\n",
    "spt = txt.split()\n",
    "\n",
    "x = float(spt[0])\n",
    "s = float(spt[2])\n",
    "\n",
    "print(f'BM \\u00B1 s: {x:.2f} \\u00B1 {s:.2f}')\n",
    "print(f'BM \\u00B1 2s: {x:.2f} \\u00B1 {2*s:.2f}')\n",
    "print(('[LI, LS]: [%.2f, %.2f]') % (x-2*s, x+2*s))"
   ]
  },
  {
   "cell_type": "markdown",
   "metadata": {},
   "source": [
    "### Referências\n",
    "\n",
    "Guia para realização dos estudos de degradação\n",
    "forçada em medicamentos e para a notificação,\n",
    "identificação e qualificação de produtos de degradação\n",
    "Guia n° XX/XXXX – versão X. Anvisa 2022."
   ]
  }
 ],
 "metadata": {
  "colab": {
   "provenance": []
  },
  "kernelspec": {
   "display_name": "Python 3 (ipykernel)",
   "language": "python",
   "name": "python3"
  },
  "language_info": {
   "codemirror_mode": {
    "name": "ipython",
    "version": 3
   },
   "file_extension": ".py",
   "mimetype": "text/x-python",
   "name": "python",
   "nbconvert_exporter": "python",
   "pygments_lexer": "ipython3",
   "version": "3.10.9"
  }
 },
 "nbformat": 4,
 "nbformat_minor": 1
}
